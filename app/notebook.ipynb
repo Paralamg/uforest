{
 "cells": [
  {
   "cell_type": "code",
   "id": "initial_id",
   "metadata": {
    "collapsed": true,
    "ExecuteTime": {
     "end_time": "2025-03-02T14:27:45.510318Z",
     "start_time": "2025-03-02T14:27:45.492673Z"
    }
   },
   "source": [
    "from passlib.context import CryptContext\n",
    "\n",
    "pwd_context = CryptContext(schemes=[\"bcrypt\"], deprecated=\"auto\")\n",
    "\n",
    "class HashPassword:\n",
    "\n",
    "    @staticmethod\n",
    "    def create_hash(password: str):\n",
    "        return pwd_context.hash(password)\n",
    "\n",
    "    @staticmethod\n",
    "    def verify_hash(plain_password: str, hashed_password: str):\n",
    "        return pwd_context.verify(plain_password, hashed_password)"
   ],
   "outputs": [],
   "execution_count": 1
  },
  {
   "metadata": {
    "ExecuteTime": {
     "end_time": "2025-03-02T14:28:10.316539Z",
     "start_time": "2025-03-02T14:28:10.048616Z"
    }
   },
   "cell_type": "code",
   "source": "HashPassword.create_hash('string')",
   "id": "8a9fdfbe364ac851",
   "outputs": [
    {
     "data": {
      "text/plain": [
       "'$2b$12$LVBKgH2vRzdjghTTeHV10.TmGfuIdIhTqgc5gsdJ7DhnPd5z8OotG'"
      ]
     },
     "execution_count": 10,
     "metadata": {},
     "output_type": "execute_result"
    }
   ],
   "execution_count": 10
  }
 ],
 "metadata": {
  "kernelspec": {
   "display_name": "Python 3",
   "language": "python",
   "name": "python3"
  },
  "language_info": {
   "codemirror_mode": {
    "name": "ipython",
    "version": 2
   },
   "file_extension": ".py",
   "mimetype": "text/x-python",
   "name": "python",
   "nbconvert_exporter": "python",
   "pygments_lexer": "ipython2",
   "version": "2.7.6"
  }
 },
 "nbformat": 4,
 "nbformat_minor": 5
}
