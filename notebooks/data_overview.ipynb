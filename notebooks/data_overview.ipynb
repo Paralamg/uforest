{
 "cells": [
  {
   "cell_type": "code",
   "execution_count": 2,
   "id": "9e7ccffb",
   "metadata": {},
   "outputs": [],
   "source": [
    "import os\n",
    "from glob import glob\n",
    "import numpy as np\n",
    "import torch\n",
    "from PIL import Image\n",
    "import matplotlib.pyplot as plt\n"
   ]
  },
  {
   "cell_type": "code",
   "execution_count": 5,
   "id": "4f1bc148",
   "metadata": {},
   "outputs": [
    {
     "ename": "RuntimeError",
     "evalue": "stack expects a non-empty TensorList",
     "output_type": "error",
     "traceback": [
      "\u001b[31m---------------------------------------------------------------------------\u001b[39m",
      "\u001b[31mRuntimeError\u001b[39m                              Traceback (most recent call last)",
      "\u001b[36mCell\u001b[39m\u001b[36m \u001b[39m\u001b[32mIn[5]\u001b[39m\u001b[32m, line 25\u001b[39m\n\u001b[32m     22\u001b[39m     boxes.append(torch.tensor(np.hstack([centers - \u001b[32m0.5\u001b[39m * widths, centers + \u001b[32m0.5\u001b[39m * widths]), dtype=torch.float32))\n\u001b[32m     24\u001b[39m \u001b[38;5;66;03m# Optionally, you can convert lists to tensors if needed\u001b[39;00m\n\u001b[32m---> \u001b[39m\u001b[32m25\u001b[39m imgs = \u001b[43mtorch\u001b[49m\u001b[43m.\u001b[49m\u001b[43mstack\u001b[49m\u001b[43m(\u001b[49m\u001b[43mimgs\u001b[49m\u001b[43m)\u001b[49m  \u001b[38;5;66;03m# Shape: (N, H, W, C)\u001b[39;00m\n\u001b[32m     26\u001b[39m boxes = [box \u001b[38;5;28;01mfor\u001b[39;00m box \u001b[38;5;129;01min\u001b[39;00m boxes]  \u001b[38;5;66;03m# Keep boxes as a list of tensors\u001b[39;00m\n",
      "\u001b[31mRuntimeError\u001b[39m: stack expects a non-empty TensorList"
     ]
    }
   ],
   "source": [
    "import os\n",
    "from glob import glob\n",
    "import numpy as np\n",
    "import torch\n",
    "from PIL import Image\n",
    "import matplotlib.pyplot as plt\n",
    "\n",
    "imgs = []\n",
    "boxes = []\n",
    "for img_path in glob('/kaggle/input/tree-counting-image-dataset/test/images/*.jpg'):\n",
    "    # Read image\n",
    "    img = Image.open(img_path).convert('RGB')\n",
    "    img = np.array(img) / 255.0  # Normalize to [0, 1]\n",
    "    imgs.append(torch.tensor(img, dtype=torch.float32))\n",
    "\n",
    "    # Read labels and re-calculate bounding boxes - here from YOLOv8 format \n",
    "    label_path = img_path.replace('images/', 'labels/').replace('.jpg', '.txt')\n",
    "    labels = np.loadtxt(label_path, delimiter=' ')\n",
    "    centers = labels[:, [2, 1]]  # PyTorch expects yx\n",
    "    widths = labels[:, [4, 3]]    # PyTorch expects yx\n",
    "    print(1)\n",
    "    boxes.append(torch.tensor(np.hstack([centers - 0.5 * widths, centers + 0.5 * widths]), dtype=torch.float32))\n",
    "\n",
    "# Optionally, you can convert lists to tensors if needed\n",
    "imgs = torch.stack(imgs)  # Shape: (N, H, W, C)\n",
    "boxes = [box for box in boxes]  # Keep boxes as a list of tensors"
   ]
  }
 ],
 "metadata": {
  "kernelspec": {
   "display_name": ".venv",
   "language": "python",
   "name": "python3"
  },
  "language_info": {
   "codemirror_mode": {
    "name": "ipython",
    "version": 3
   },
   "file_extension": ".py",
   "mimetype": "text/x-python",
   "name": "python",
   "nbconvert_exporter": "python",
   "pygments_lexer": "ipython3",
   "version": "3.13.3"
  }
 },
 "nbformat": 4,
 "nbformat_minor": 5
}
