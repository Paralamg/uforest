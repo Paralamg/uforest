{
 "cells": [
  {
   "cell_type": "code",
   "id": "initial_id",
   "metadata": {
    "collapsed": true,
    "ExecuteTime": {
     "end_time": "2025-07-16T19:49:54.748125Z",
     "start_time": "2025-07-16T19:49:54.687841Z"
    }
   },
   "source": [
    "\n",
    "import rasterio\n",
    "\n",
    "with rasterio.open(\"/Users/dmitryklimov/Downloads/68762df522caa22a41b139a5.tif\") as src:\n",
    "    print(src.crs)  # Печатает систему координат, если она есть\n",
    "    print(src.bounds)  # Географические границы"
   ],
   "outputs": [
    {
     "name": "stdout",
     "output_type": "stream",
     "text": [
      "EPSG:32633\n",
      "BoundingBox(left=726632.9653929138, bottom=4802965.3409132995, right=727408.7673839851, top=4803399.137219503)\n"
     ]
    }
   ],
   "execution_count": 2
  },
  {
   "metadata": {},
   "cell_type": "code",
   "outputs": [],
   "execution_count": null,
   "source": "",
   "id": "2abdc7ef8ac84a00"
  }
 ],
 "metadata": {
  "kernelspec": {
   "display_name": "Python 3",
   "language": "python",
   "name": "python3"
  },
  "language_info": {
   "codemirror_mode": {
    "name": "ipython",
    "version": 2
   },
   "file_extension": ".py",
   "mimetype": "text/x-python",
   "name": "python",
   "nbconvert_exporter": "python",
   "pygments_lexer": "ipython2",
   "version": "2.7.6"
  }
 },
 "nbformat": 4,
 "nbformat_minor": 5
}
